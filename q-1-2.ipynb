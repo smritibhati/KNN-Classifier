{
 "cells": [
  {
   "cell_type": "code",
   "execution_count": 63,
   "metadata": {},
   "outputs": [],
   "source": [
    "import pandas as pd\n",
    "import numpy as np\n",
    "import math\n",
    "from collections import Counter\n",
    "from sklearn.metrics import precision_recall_fscore_support\n",
    "import operator\n",
    "import matplotlib.pyplot as plt\n",
    "data=pd.read_csv('Iris/iris.csv')\n",
    "Errors = []"
   ]
  },
  {
   "cell_type": "code",
   "execution_count": 91,
   "metadata": {},
   "outputs": [],
   "source": [
    "from numpy.linalg import norm\n",
    "from numpy import dot"
   ]
  },
  {
   "cell_type": "code",
   "execution_count": 64,
   "metadata": {},
   "outputs": [],
   "source": [
    "data,testdata= np.split(data,[int(0.80*len(data))])"
   ]
  },
  {
   "cell_type": "code",
   "execution_count": 65,
   "metadata": {},
   "outputs": [],
   "source": [
    "def maxfreq(arrayd):\n",
    "    c=Counter(arrayd)\n",
    "    value,count= c.most_common()[0]\n",
    "#     print(\"most common\",value)\n",
    "    return value    "
   ]
  },
  {
   "cell_type": "code",
   "execution_count": 66,
   "metadata": {},
   "outputs": [],
   "source": [
    "def chebyshevdistance(datarow,testrow):\n",
    "    dist=0\n",
    "    for x in range(len(datarow.keys())-1):\n",
    "        dist= max(dist,abs(datarow[datarow.keys()[x]]-testrow[testrow.keys()[x]]));\n",
    "\n",
    "    return dist"
   ]
  },
  {
   "cell_type": "code",
   "execution_count": 94,
   "metadata": {},
   "outputs": [],
   "source": [
    "def cosinedistance(x, y):\n",
    "    x=np.array(x[0:-1])\n",
    "    y=np.array(y[0:-1])\n",
    "    return dot(x, y)/((norm(x))*norm(y))"
   ]
  },
  {
   "cell_type": "code",
   "execution_count": 75,
   "metadata": {},
   "outputs": [],
   "source": [
    "def manhattandistance(datarow,testrow):\n",
    "    dist=0\n",
    "    for x in range(len(datarow.keys())-1):\n",
    "        dist+= abs(datarow[datarow.keys()[x]]-testrow[testrow.keys()[x]]);\n",
    "\n",
    "    return dist"
   ]
  },
  {
   "cell_type": "code",
   "execution_count": 69,
   "metadata": {},
   "outputs": [],
   "source": [
    "def eucliddistance(datarow,testrow):\n",
    "#     print(\"datarow\", datarow)\n",
    "#     print(\"testrow\", testrow)\n",
    "    dist=0\n",
    "    for x in range(len(datarow.keys())-1):\n",
    "#         print(\"values of both the rows\",datarow[datarow.keys()[x]],testrow[testrow.keys()[x]])\n",
    "        dist+= math.pow(datarow[datarow.keys()[x]]-testrow[testrow.keys()[x]],2);\n",
    "#         print(\"dist\",dist)\n",
    "    \n",
    "    dist= math.sqrt(dist)\n",
    "    return dist"
   ]
  },
  {
   "cell_type": "code",
   "execution_count": 97,
   "metadata": {},
   "outputs": [],
   "source": [
    "def finddistances(data,testdata,k):\n",
    "    global correct\n",
    "    global wrong\n",
    "    correct=0\n",
    "    wrong=0\n",
    "    for x in range(len(testdata)):\n",
    "        distancevector=[]\n",
    "        for y in range(len(data)):\n",
    "#             print(data.iloc[y],testdata.iloc[x])\n",
    "            dist= eucliddistance(data.iloc[y],testdata.iloc[x])\n",
    "            datarow = data.iloc[y]\n",
    "            distancevector.append((dist,datarow[datarow.keys()[-1]]))\n",
    "        \n",
    "#         print(distancevector)\n",
    "        sorted_d = sorted(distancevector)\n",
    "#         print(sorted_d)\n",
    "        i=0\n",
    "        arrayd=[]\n",
    "        \n",
    "        for key in sorted_d:\n",
    "            if i==k:\n",
    "                break\n",
    "            arrayd.append(key[1])\n",
    "            i+=1\n",
    "        \n",
    "\n",
    "      \n",
    "        predictedlabel = maxfreq(arrayd)\n",
    "        predictions.append(predictedlabel)\n",
    "        \n",
    "        if predictedlabel== list(testdata.iloc[x])[-1]:\n",
    "            correct+=1\n",
    "        else:\n",
    "            wrong+=1\n",
    "    \n",
    "    actual = np.array(testdata.iloc[:,-1])\n",
    "    p,r,f,none = precision_recall_fscore_support(actual,predictions, average='macro')\n",
    "    \n",
    "    return correct/(wrong+correct),p,r,f"
   ]
  },
  {
   "cell_type": "code",
   "execution_count": 98,
   "metadata": {},
   "outputs": [],
   "source": [
    "ylabel=[]\n",
    "xlabel=[]\n",
    "correct=0\n",
    "wrong=0\n",
    "A=[]\n",
    "P=[]\n",
    "F=[]\n",
    "R=[]\n",
    "for x in range(3, int(math.sqrt(len(data)))):\n",
    "    predictions=[]\n",
    "    actual=[]\n",
    "    accuracy,p,r,f=finddistances(data,testdata,x)\n",
    "    A.append(accuracy)\n",
    "    P.append(p)\n",
    "    F.append(f)\n",
    "    R.append(r)\n",
    "    ylabel.append(accuracy)\n",
    "    xlabel.append(x)"
   ]
  },
  {
   "cell_type": "code",
   "execution_count": 99,
   "metadata": {},
   "outputs": [
    {
     "data": {
      "image/png": "[encoded data removed]",
      "text/plain": [
       "<Figure size 432x288 with 1 Axes>"
      ]
     },
     "metadata": {
      "needs_background": "light"
     },
     "output_type": "display_data"
    }
   ],
   "source": [
    "plt.plot(xlabel, ylabel)\n",
    "\n",
    "plt.show()\n"
   ]
  },
  {
   "cell_type": "code",
   "execution_count": 100,
   "metadata": {},
   "outputs": [
    {
     "name": "stdout",
     "output_type": "stream",
     "text": [
      "[0.9629629629629629, 0.9629629629629629, 0.9629629629629629, 0.9629629629629629, 1.0, 1.0, 1.0]\n"
     ]
    }
   ],
   "source": [
    "# print(len(data))\n",
    "# print(len(testdata))\n",
    "# finddistances(data, testdata, 10)\n",
    "print(ylabel)"
   ]
  },
  {
   "cell_type": "code",
   "execution_count": 101,
   "metadata": {},
   "outputs": [],
   "source": [
    "Errors.append(ylabel)"
   ]
  },
  {
   "cell_type": "code",
   "execution_count": 49,
   "metadata": {},
   "outputs": [
    {
     "data": {
      "text/plain": [
       "[0.9523809523809524,\n",
       " 0.9523809523809524,\n",
       " 0.9523809523809524,\n",
       " 0.9523809523809524,\n",
       " 0.9523809523809524,\n",
       " 0.9523809523809524,\n",
       " 1.0]"
      ]
     },
     "execution_count": 49,
     "metadata": {},
     "output_type": "execute_result"
    }
   ],
   "source": [
    "P"
   ]
  },
  {
   "cell_type": "code",
   "execution_count": 102,
   "metadata": {},
   "outputs": [
    {
     "data": {
      "text/plain": [
       "[[0.9629629629629629,\n",
       "  0.9629629629629629,\n",
       "  0.9629629629629629,\n",
       "  0.9629629629629629,\n",
       "  0.9629629629629629,\n",
       "  0.9629629629629629,\n",
       "  1.0],\n",
       " [0.9629629629629629,\n",
       "  0.9629629629629629,\n",
       "  0.9259259259259259,\n",
       "  0.9259259259259259,\n",
       "  0.9259259259259259,\n",
       "  0.9259259259259259,\n",
       "  0.9629629629629629],\n",
       " [0.9629629629629629,\n",
       "  0.9629629629629629,\n",
       "  0.9629629629629629,\n",
       "  0.9629629629629629,\n",
       "  1.0,\n",
       "  1.0,\n",
       "  1.0]]"
      ]
     },
     "execution_count": 102,
     "metadata": {},
     "output_type": "execute_result"
    }
   ],
   "source": [
    "Errors"
   ]
  },
  {
   "cell_type": "code",
   "execution_count": 1,
   "metadata": {},
   "outputs": [
    {
     "ename": "NameError",
     "evalue": "name 'plt' is not defined",
     "output_type": "error",
     "traceback": [
      "\u001b[0;31m---------------------------------------------------------------------------\u001b[0m",
      "\u001b[0;31mNameError\u001b[0m                                 Traceback (most recent call last)",
      "\u001b[0;32m<ipython-input-1-9f60c42ea382>\u001b[0m in \u001b[0;36m<module>\u001b[0;34m\u001b[0m\n\u001b[0;32m----> 1\u001b[0;31m \u001b[0mplt\u001b[0m\u001b[0;34m.\u001b[0m\u001b[0mplot\u001b[0m\u001b[0;34m(\u001b[0m\u001b[0mxlabel\u001b[0m\u001b[0;34m,\u001b[0m \u001b[0mErrors\u001b[0m\u001b[0;34m[\u001b[0m\u001b[0;36m0\u001b[0m\u001b[0;34m]\u001b[0m\u001b[0;34m)\u001b[0m\u001b[0;34m\u001b[0m\u001b[0;34m\u001b[0m\u001b[0m\n\u001b[0m\u001b[1;32m      2\u001b[0m \u001b[0mplt\u001b[0m\u001b[0;34m.\u001b[0m\u001b[0mplot\u001b[0m\u001b[0;34m(\u001b[0m\u001b[0mxlabel\u001b[0m\u001b[0;34m,\u001b[0m \u001b[0mErrors\u001b[0m\u001b[0;34m[\u001b[0m\u001b[0;36m1\u001b[0m\u001b[0;34m]\u001b[0m\u001b[0;34m)\u001b[0m\u001b[0;34m\u001b[0m\u001b[0;34m\u001b[0m\u001b[0m\n\u001b[1;32m      3\u001b[0m \u001b[0mplt\u001b[0m\u001b[0;34m.\u001b[0m\u001b[0mplot\u001b[0m\u001b[0;34m(\u001b[0m\u001b[0mxlabel\u001b[0m\u001b[0;34m,\u001b[0m \u001b[0mErrors\u001b[0m\u001b[0;34m[\u001b[0m\u001b[0;36m2\u001b[0m\u001b[0;34m]\u001b[0m\u001b[0;34m)\u001b[0m\u001b[0;34m\u001b[0m\u001b[0;34m\u001b[0m\u001b[0m\n\u001b[1;32m      4\u001b[0m \u001b[0;34m\u001b[0m\u001b[0m\n\u001b[1;32m      5\u001b[0m \u001b[0mplt\u001b[0m\u001b[0;34m.\u001b[0m\u001b[0mshow\u001b[0m\u001b[0;34m(\u001b[0m\u001b[0;34m)\u001b[0m\u001b[0;34m\u001b[0m\u001b[0;34m\u001b[0m\u001b[0m\n",
      "\u001b[0;31mNameError\u001b[0m: name 'plt' is not defined"
     ]
    }
   ],
   "source": [
    "plt.plot(xlabel, Errors[0])\n",
    "plt.plot(xlabel, Errors[1])\n",
    "plt.plot(xlabel, Errors[2])\n",
    "\n",
    "plt.show()\n"
   ]
  },
  {
   "cell_type": "code",
   "execution_count": null,
   "metadata": {},
   "outputs": [],
   "source": []
  }
 ],
 "metadata": {
  "kernelspec": {
   "display_name": "Python 3",
   "language": "python",
   "name": "python3"
  },
  "language_info": {
   "codemirror_mode": {
    "name": "ipython",
    "version": 3
   },
   "file_extension": ".py",
   "mimetype": "text/x-python",
   "name": "python",
   "nbconvert_exporter": "python",
   "pygments_lexer": "ipython3",
   "version": "3.7.1"
  }
 },
 "nbformat": 4,
 "nbformat_minor": 2
}
