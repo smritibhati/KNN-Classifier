{
 "cells": [
  {
   "cell_type": "code",
   "execution_count": 40,
   "metadata": {},
   "outputs": [],
   "source": [
    "import pandas as pd\n",
    "import numpy as np\n",
    "import math\n",
    "from collections import Counter\n",
    "import operator\n",
    "import matplotlib.pyplot as plt\n",
    "data=pd.read_csv('RobotDataset/Robot1', sep=' ', usecols=[1,2,3,4,5,6,7],header=None)\n",
    "from numpy.linalg import norm\n",
    "from numpy import dot"
   ]
  },
  {
   "cell_type": "code",
   "execution_count": 41,
   "metadata": {},
   "outputs": [],
   "source": [
    "data,testdata= np.split(data,[int(0.80*len(data))])\n",
    "# print(len(data))\n",
    "# print(len(testdata))"
   ]
  },
  {
   "cell_type": "code",
   "execution_count": 42,
   "metadata": {},
   "outputs": [],
   "source": [
    "def maxfreq(arrayd):\n",
    "    c=Counter(arrayd)\n",
    "    value,count= c.most_common()[0]\n",
    "#     print(\"most common\",value)\n",
    "    return value    "
   ]
  },
  {
   "cell_type": "code",
   "execution_count": 43,
   "metadata": {},
   "outputs": [],
   "source": [
    "def manhattandistance(datarow,testrow):\n",
    "    dist=0\n",
    "    for x in range(len(datarow.keys())-1):\n",
    "        dist+= abs(datarow[datarow.keys()[x]]-testrow[testrow.keys()[x]]);\n",
    "\n",
    "    return dist"
   ]
  },
  {
   "cell_type": "code",
   "execution_count": 44,
   "metadata": {},
   "outputs": [],
   "source": [
    "def chebyshevdistance(datarow,testrow):\n",
    "    dist=0\n",
    "    for x in range(len(datarow.keys())-1):\n",
    "        dist= max(dist,abs(datarow[datarow.keys()[x]]-testrow[testrow.keys()[x]]));\n",
    "    return dist"
   ]
  },
  {
   "cell_type": "code",
   "execution_count": 45,
   "metadata": {},
   "outputs": [],
   "source": [
    "def cosinedistance(x, y):\n",
    "    x=np.array(x)\n",
    "    y=np.array(y)\n",
    "    return dot(x, y)/((norm(x))*norm(y))"
   ]
  },
  {
   "cell_type": "code",
   "execution_count": 46,
   "metadata": {},
   "outputs": [],
   "source": [
    "def eucliddistance(datarow,testrow):\n",
    "#     print(\"datarow\", datarow)\n",
    "#     print(\"testrow\", testrow)\n",
    "    dist=0\n",
    "    for x in range(len(datarow.keys())-1):\n",
    "#         print(\"values of both the rows\",datarow[datarow.keys()[x]],testrow[testrow.keys()[x]])\n",
    "        dist+= math.pow(datarow[datarow.keys()[x]]-testrow[testrow.keys()[x]],2);\n",
    "#         print(\"dist\",dist)\n",
    "    \n",
    "    dist= math.sqrt(dist)\n",
    "    return dist"
   ]
  },
  {
   "cell_type": "code",
   "execution_count": 74,
   "metadata": {},
   "outputs": [],
   "source": [
    "def finddistances(data,testdata,k):\n",
    "    global correct\n",
    "    global wrong,tp,fp,tn,fn\n",
    "    correct=0\n",
    "    wrong=0\n",
    "    for x in range(len(testdata)):\n",
    "        distancevector=[]\n",
    "        for y in range(len(data)):\n",
    "#             print(data.iloc[y],testdata.iloc[x])\n",
    "            dist= eucliddistance(data.iloc[y],testdata.iloc[x])\n",
    "            datarow = data.iloc[y]\n",
    "            distancevector.append((dist,datarow[datarow.keys()[0]]))\n",
    "        \n",
    "#         print(distancevector)\n",
    "        sorted_d = sorted(distancevector)\n",
    "#         print(sorted_d)\n",
    "        i=0\n",
    "        arrayd=[]\n",
    "        \n",
    "        for key in sorted_d:\n",
    "            if i==k:\n",
    "                break\n",
    "            arrayd.append(key[1])\n",
    "            i+=1\n",
    "        \n",
    "#         print(\"arrayd\", arrayd)\n",
    "        \n",
    "        predictedlabel = maxfreq(arrayd)\n",
    "#         print(\"two values to be compared\",predictedlabel, list(testdata.iloc[x])[0])\n",
    "        \n",
    "        if predictedlabel== list(testdata.iloc[x])[0]:\n",
    "            if predictedlabel==0:\n",
    "                tn+=1\n",
    "            else:\n",
    "                tp+=1\n",
    "            correct+=1\n",
    "        else:\n",
    "            if predictedlabel==0:\n",
    "                fn+=1\n",
    "            else:\n",
    "                fp+=1\n",
    "            correct+=1\n",
    "            wrong+=1\n",
    "   \n",
    "    accuracy=correct/(wrong+correct)\n",
    "    precision=(tp/(tp+fp))\n",
    "    recall=(tp/(tp+fn))\n",
    "    f1score=(2/((1/precision)+(1/recall)))\n",
    "    return accuracy,precision,recall,f1score"
   ]
  },
  {
   "cell_type": "code",
   "execution_count": 75,
   "metadata": {},
   "outputs": [],
   "source": [
    "ylabel=[]\n",
    "xlabel=[]\n",
    "correct=0\n",
    "wrong=0\n",
    "A=[]\n",
    "F=[]\n",
    "P=[]\n",
    "R=[]\n",
    "\n",
    "for x in range(1, int(math.sqrt(len(data)))):\n",
    "    tp=0;\n",
    "    tn=0;\n",
    "    fp=0;\n",
    "    fn=0;\n",
    "    accuracy,precision,recall,f1score=finddistances(data,testdata,x)\n",
    "    A.append(accuracy)\n",
    "    P.append(precision)\n",
    "    F.append(f1score)\n",
    "    R.append(recall)\n",
    "    ylabel.append(accuracy)\n",
    "    xlabel.append(x)"
   ]
  },
  {
   "cell_type": "code",
   "execution_count": 76,
   "metadata": {},
   "outputs": [
    {
     "data": {
      "image/png": "[encoded data removed]",
      "text/plain": [
       "<Figure size 432x288 with 1 Axes>"
      ]
     },
     "metadata": {
      "needs_background": "light"
     },
     "output_type": "display_data"
    }
   ],
   "source": [
    "plt.plot(xlabel, ylabel)\n",
    "plt.show()"
   ]
  },
  {
   "cell_type": "code",
   "execution_count": 77,
   "metadata": {},
   "outputs": [
    {
     "name": "stdout",
     "output_type": "stream",
     "text": [
      "[0.6578947368421053, 0.6578947368421053, 0.6578947368421053, 0.6578947368421053, 0.6410256410256411, 0.6578947368421053, 0.6410256410256411, 0.6578947368421053]\n"
     ]
    }
   ],
   "source": [
    "# print(len(data))\n",
    "# print(len(testdata))\n",
    "# finddistances(data, testdata, 10)\n",
    "print(ylabel)"
   ]
  },
  {
   "cell_type": "code",
   "execution_count": 78,
   "metadata": {},
   "outputs": [],
   "source": [
    "Errors.append(ylabel)"
   ]
  },
  {
   "cell_type": "code",
   "execution_count": 79,
   "metadata": {},
   "outputs": [
    {
     "data": {
      "text/plain": [
       "[0.2727272727272727,\n",
       " 0.2727272727272727,\n",
       " 0.2727272727272727,\n",
       " 0.2727272727272727,\n",
       " 0.2727272727272727,\n",
       " 0.36363636363636365,\n",
       " 0.36363636363636365,\n",
       " 0.36363636363636365]"
      ]
     },
     "execution_count": 79,
     "metadata": {},
     "output_type": "execute_result"
    }
   ],
   "source": [
    "R"
   ]
  },
  {
   "cell_type": "code",
   "execution_count": 80,
   "metadata": {},
   "outputs": [
    {
     "data": {
      "text/plain": [
       "[0.6578947368421053,\n",
       " 0.6578947368421053,\n",
       " 0.6578947368421053,\n",
       " 0.6578947368421053,\n",
       " 0.6410256410256411,\n",
       " 0.6578947368421053,\n",
       " 0.6410256410256411,\n",
       " 0.6578947368421053]"
      ]
     },
     "execution_count": 80,
     "metadata": {},
     "output_type": "execute_result"
    }
   ],
   "source": [
    "Errors[2]"
   ]
  },
  {
   "cell_type": "code",
   "execution_count": 81,
   "metadata": {},
   "outputs": [
    {
     "data": {
      "image/png": "[encoded data removed]",
      "text/plain": [
       "<Figure size 432x288 with 1 Axes>"
      ]
     },
     "metadata": {
      "needs_background": "light"
     },
     "output_type": "display_data"
    }
   ],
   "source": [
    "plt.plot(xlabel, Errors[0])\n",
    "plt.plot(xlabel, Errors[1])\n",
    "plt.plot(xlabel, Errors[2])\n",
    "plt.gca().legend(('Euclid','Manhattan','Chebyshev'))\n",
    "plt.show()"
   ]
  },
  {
   "cell_type": "code",
   "execution_count": null,
   "metadata": {},
   "outputs": [],
   "source": []
  }
 ],
 "metadata": {
  "kernelspec": {
   "display_name": "Python 3",
   "language": "python",
   "name": "python3"
  },
  "language_info": {
   "codemirror_mode": {
    "name": "ipython",
    "version": 3
   },
   "file_extension": ".py",
   "mimetype": "text/x-python",
   "name": "python",
   "nbconvert_exporter": "python",
   "pygments_lexer": "ipython3",
   "version": "3.7.1"
  }
 },
 "nbformat": 4,
 "nbformat_minor": 2
}
